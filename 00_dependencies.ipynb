{
 "cells": [
  {
   "cell_type": "code",
   "execution_count": 1,
   "id": "4ec19735-a80e-4569-bcd9-9fd7de5b39e8",
   "metadata": {},
   "outputs": [
    {
     "name": "stdout",
     "output_type": "stream",
     "text": [
      "Hit:1 http://security.ubuntu.com/ubuntu focal-security InRelease\n",
      "Hit:2 http://archive.ubuntu.com/ubuntu focal InRelease\n",
      "Hit:3 http://archive.ubuntu.com/ubuntu focal-updates InRelease\n",
      "Hit:4 http://archive.ubuntu.com/ubuntu focal-backports InRelease\n",
      "Reading package lists... Done\n",
      "Reading package lists... Done\n",
      "Building dependency tree       \n",
      "Reading state information... Done\n",
      "glpk-utils is already the newest version (4.65-2).\n",
      "libglpk-dev is already the newest version (4.65-2).\n",
      "0 upgraded, 0 newly installed, 0 to remove and 60 not upgraded.\n",
      "yes: standard output: Broken pipe\n",
      "Requirement already satisfied: glpk in /opt/conda/lib/python3.9/site-packages (0.4.6)\n",
      "Requirement already satisfied: pulp in /opt/conda/lib/python3.9/site-packages (2.6.0)\n"
     ]
    }
   ],
   "source": [
    "! sudo apt-get update\n",
    "! yes | sudo apt-get install glpk-utils libglpk-dev\n",
    "! pip install glpk pulp"
   ]
  },
  {
   "cell_type": "code",
   "execution_count": 2,
   "id": "4d2ea8b5-d659-4dda-848b-4d37e495c557",
   "metadata": {},
   "outputs": [
    {
     "name": "stdout",
     "output_type": "stream",
     "text": [
      "['GLPK_CMD', 'PULP_CBC_CMD']\n"
     ]
    },
    {
     "name": "stderr",
     "output_type": "stream",
     "text": [
      "ssssssssssssssssssssssssssssssssssssssssssssssssssssssssssssssssssssssssssssssssssssssssssssssssssssssssssssssssssssssssssssssssssssssssssssssssssssssssssssssssssssssssssssssssssssssssssssssssssssssssssssssssssssssssssssssssssssssssssssssssssssssssssssssssssssssssssssssssssssssss......................................."
     ]
    },
    {
     "name": "stdout",
     "output_type": "stream",
     "text": [
      "\t Test that logic put in place for deprecation handling of indexs works\n",
      "\t Testing 'indexs' param continues to work for LpVariable.dicts\n",
      "\t Testing 'indexs' param continues to work for LpVariable.matrix\n",
      "\t Testing 'indices' argument works in LpVariable.dicts\n",
      "\t Testing 'indices' param continues to work for LpVariable.matrix\n",
      "\t Testing invalid status\n",
      "\t Testing continuous LP solution - export dict\n",
      "\t Testing export dict for LP\n",
      "\t Testing export dict MIP\n",
      "\t Testing maximize continuous LP solution\n",
      "\t Testing continuous LP solution - export JSON\n",
      "\t Testing continuous LP solution - export solver dict\n",
      "\t Testing continuous LP solution - export solver JSON\n",
      "\t Testing reading MPS files - binary variable, no constraint names\n",
      "\t Testing reading MPS files - integer variable\n",
      "\t Testing reading MPS files - maximize\n",
      "\t Testing invalid var names\n",
      "\t Testing makeDict general behavior\n",
      "\t Testing makeDict default value behavior\n",
      "\t Testing measuring optimization time\n",
      "\t Testing the availability of the function pulpTestAll\n",
      "\t Testing zero subtraction\n",
      "\t Testing inconsistent lp solution\n",
      "\t Testing continuous LP solution\n",
      "\t Testing maximize continuous LP solution\n",
      "\t Testing unbounded continuous LP solution\n",
      "\t Testing Long Names\n",
      "\t Testing repeated Names\n",
      "\t Testing zero constraint\n",
      "\t Testing zero objective\n",
      "\t Testing LpVariable (not LpAffineExpression) objective\n",
      "\t Testing LpAffineExpression divide\n",
      "\t Testing MIP solution\n",
      "\t Testing MIP solution with floats in objective\n",
      "\t Testing Initial value in MIP solution\n",
      "\t Testing fixing value in MIP solution\n",
      "\t Testing MIP relaxation\n",
      "\t Testing feasibility problem (no objective)\n"
     ]
    },
    {
     "name": "stderr",
     "output_type": "stream",
     "text": [
      ".................sssssssssssssssssssssssssssssssssssssssssssssssssssssssssssssssssssssssssssssssssssssssssssssssssssssssssssssssssssssssssssssssssssssssssss"
     ]
    },
    {
     "name": "stdout",
     "output_type": "stream",
     "text": [
      "\t Testing an infeasible problem\n",
      "\t Testing an integer infeasible problem\n",
      "\t Testing another integer infeasible problem\n",
      "\t Testing column based modelling\n",
      "\t Testing fractional constraints\n",
      "\t Testing elastic constraints (no change)\n",
      "\t Testing elastic constraints (freebound)\n",
      "\t Testing elastic constraints (penalty unchanged)\n",
      "\t Testing elastic constraints (penalty unbounded)\n",
      "\t Testing timeLimit argument\n"
     ]
    },
    {
     "name": "stderr",
     "output_type": "stream",
     "text": [
      "sssssssssssssssssssssssssssssssssssssssssssssssssssssssssssssssssssssssssssssssssssss...................."
     ]
    },
    {
     "name": "stdout",
     "output_type": "stream",
     "text": [
      "\t Test that logic put in place for deprecation handling of indexs works\n",
      "\t Testing 'indexs' param continues to work for LpVariable.dicts\n",
      "\t Testing 'indexs' param continues to work for LpVariable.matrix\n",
      "\t Testing 'indices' argument works in LpVariable.dicts\n",
      "\t Testing 'indices' param continues to work for LpVariable.matrix\n",
      "\t Testing invalid status\n",
      "\t Testing continuous LP solution - export dict\n",
      "\t Testing export dict for LP\n",
      "\t Testing export dict MIP\n",
      "\t Testing maximize continuous LP solution\n",
      "\t Testing continuous LP solution - export JSON\n",
      "\t Testing continuous LP solution - export solver dict\n",
      "\t Testing continuous LP solution - export solver JSON\n",
      "\t Testing reading MPS files - binary variable, no constraint names\n",
      "\t Testing reading MPS files - integer variable\n",
      "\t Testing reading MPS files - maximize\n",
      "\t Testing invalid var names\n",
      "\t Testing logPath argument\n",
      "\t Testing makeDict general behavior\n",
      "\t Testing makeDict default value behavior\n",
      "\t Testing measuring optimization time\n"
     ]
    },
    {
     "name": "stderr",
     "output_type": "stream",
     "text": [
      "......................."
     ]
    },
    {
     "name": "stdout",
     "output_type": "stream",
     "text": [
      "\t Testing the availability of the function pulpTestAll\n",
      "\t Testing zero subtraction\n",
      "\t Testing inconsistent lp solution\n",
      "\t Testing continuous LP solution\n",
      "\t Testing maximize continuous LP solution\n",
      "\t Testing unbounded continuous LP solution\n",
      "\t Testing Long Names\n",
      "\t Testing repeated Names\n",
      "\t Testing zero constraint\n",
      "\t Testing zero objective\n",
      "\t Testing LpVariable (not LpAffineExpression) objective\n",
      "\t Testing Long lines in LP\n",
      "\t Testing LpAffineExpression divide\n",
      "\t Testing MIP solution\n",
      "\t Testing MIP solution with floats in objective\n",
      "\t Testing Initial value in MIP solution\n",
      "\t Testing fixing value in MIP solution\n",
      "\t Testing MIP relaxation\n",
      "\t Testing feasibility problem (no objective)\n",
      "\t Testing an infeasible problem\n",
      "\t Testing an integer infeasible problem\n",
      "\t Testing another integer infeasible problem\n",
      "\t Testing column based modelling\n"
     ]
    },
    {
     "name": "stderr",
     "output_type": "stream",
     "text": [
      ".............ssssssssssssssssssssssssssssssssssssssssssssssssssssssssssssssssssssssssssssssssssssssssssssssssssssssssssssssssssssssssssssssssssssssssssssssssssssssssssss"
     ]
    },
    {
     "name": "stdout",
     "output_type": "stream",
     "text": [
      "\t Testing dual variables and slacks reporting\n",
      "\t Testing fractional constraints\n",
      "\t Testing elastic constraints (no change)\n",
      "\t Testing elastic constraints (freebound)\n",
      "\t Testing elastic constraints (penalty unchanged)\n",
      "\t Testing elastic constraints (penalty unbounded)\n",
      "\t Testing timeLimit argument\n"
     ]
    },
    {
     "name": "stderr",
     "output_type": "stream",
     "text": [
      "ssssssssssssssssssssssssssssssssssssssssssssssssssssssssssssssssssss\n",
      "----------------------------------------------------------------------\n",
      "Ran 840 tests in 12.128s\n",
      "\n",
      "OK (skipped=728)\n"
     ]
    }
   ],
   "source": [
    "from pulp import *\n",
    "\n",
    "print(listSolvers(onlyAvailable=True))\n",
    "pulpTestAll()"
   ]
  },
  {
   "cell_type": "code",
   "execution_count": 3,
   "id": "66e4b2b0-4314-411d-90ea-e179e2fe401b",
   "metadata": {},
   "outputs": [
    {
     "name": "stdout",
     "output_type": "stream",
     "text": [
      "GLPSOL: GLPK LP/MIP Solver, v4.65\n",
      "Parameter(s) specified in the command line:\n",
      " --cpxlp /tmp/e224d0fe90334fd9b3af2ed2e51966a8-pulp.lp -o /tmp/e224d0fe90334fd9b3af2ed2e51966a8-pulp.sol\n",
      "Reading problem data from '/tmp/e224d0fe90334fd9b3af2ed2e51966a8-pulp.lp'...\n",
      "1 row, 2 columns, 2 non-zeros\n",
      "9 lines were read\n",
      "GLPK Simplex Optimizer, v4.65\n",
      "1 row, 2 columns, 2 non-zeros\n",
      "Preprocessing...\n",
      "1 row, 2 columns, 2 non-zeros\n",
      "Scaling...\n",
      " A: min|aij| =  1.000e+00  max|aij| =  1.000e+00  ratio =  1.000e+00\n",
      "Problem data seem to be well scaled\n",
      "Constructing initial basis...\n",
      "Size of triangular part is 1\n",
      "*     0: obj =   0.000000000e+00 inf =   0.000e+00 (1)\n",
      "*     1: obj =  -8.000000000e+00 inf =   0.000e+00 (0)\n",
      "OPTIMAL LP SOLUTION FOUND\n",
      "Time used:   0.0 secs\n",
      "Memory used: 0.0 Mb (39693 bytes)\n",
      "Writing basic solution to '/tmp/e224d0fe90334fd9b3af2ed2e51966a8-pulp.sol'...\n"
     ]
    },
    {
     "data": {
      "text/plain": [
       "2.0"
      ]
     },
     "execution_count": 3,
     "metadata": {},
     "output_type": "execute_result"
    }
   ],
   "source": [
    "x = LpVariable(\"x\", 0, 3)\n",
    "y = LpVariable(\"y\", 0, 1)\n",
    "prob = LpProblem(\"myProblem\", LpMinimize)\n",
    "prob += x + y <= 2\n",
    "prob += -4*x + y\n",
    "status = prob.solve(GLPK())\n",
    "LpStatus[status]\n",
    "value(x)"
   ]
  }
 ],
 "metadata": {
  "kernelspec": {
   "display_name": "Python 3 (ipykernel)",
   "language": "python",
   "name": "python3"
  },
  "language_info": {
   "codemirror_mode": {
    "name": "ipython",
    "version": 3
   },
   "file_extension": ".py",
   "mimetype": "text/x-python",
   "name": "python",
   "nbconvert_exporter": "python",
   "pygments_lexer": "ipython3",
   "version": "3.9.10"
  }
 },
 "nbformat": 4,
 "nbformat_minor": 5
}
